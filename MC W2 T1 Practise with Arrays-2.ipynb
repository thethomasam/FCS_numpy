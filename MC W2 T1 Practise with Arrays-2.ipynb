{
 "cells": [
  {
   "cell_type": "code",
   "execution_count": 1,
   "metadata": {},
   "outputs": [],
   "source": [
    "import pandas as pd\n",
    "import numpy as np\n",
    "import otter\n",
    "grader = otter.Notebook()"
   ]
  },
  {
   "cell_type": "markdown",
   "metadata": {
    "tags": []
   },
   "source": [
    "# <mark style=\"background: #801010; color: #ffffff;\" >C</mark> Week 2: NumPy Arrays\n",
    "\n",
    "------\n",
    "\n",
    "### Instructions:\n",
    "\n",
    "- Complete 50 points worth of questions to pass the assessment\n",
    "  - You can attempt any number of questions and in any order provided you pass at least 50 points.\n",
    "- These questions should be attempted directly in this notebook.\n",
    "- Be sure to check your work before submitting.\n",
    "  - Do not remove any provided markings from the answer spaces.\n",
    "  - Do not make any changes to this notebook outside of the answer spaces provided.\n",
    "  \n",
    "#### Submitting\n",
    "\n",
    "- Reset your outputs before submitting\n",
    "  - Select the `Kernel` menu, then either `Restart & Run Clear Output` or `Restart & Run All`\n",
    "  - Don't forget to save your notebook after this step\n",
    "- Submit your .ipynb file to Gradescope using Git & GitHub\n",
    "- You can submit as many times as needed\n",
    "- When reviewing results, ignore any results listed under \"Public Tests\"  \n",
    "  (There are no \"Public Tests\" in this assignment)\n",
    "\n",
    "For more information, see the assessment page."
   ]
  },
  {
   "cell_type": "markdown",
   "metadata": {},
   "source": [
    "#### Question 01 &nbsp;&nbsp;&nbsp;&nbsp;&nbsp;&nbsp;(1 Point)\n",
    "\n",
    "Create a python program that has a 1-D array with 5 elements. It should contain the numbers 0 to 4 in sequence. Assign this array to `output1`."
   ]
  },
  {
   "cell_type": "code",
   "execution_count": 3,
   "metadata": {
    "tags": []
   },
   "outputs": [
    {
     "data": {
      "text/plain": [
       "array([0, 1, 2, 3, 4])"
      ]
     },
     "execution_count": 3,
     "metadata": {},
     "output_type": "execute_result"
    }
   ],
   "source": [
    "import numpy as np\n",
    "output1=np.arange(5)\n",
    "output1\n",
    "# Write your solution here\n"
   ]
  },
  {
   "cell_type": "markdown",
   "metadata": {},
   "source": [
    "#### Question 02 &nbsp;&nbsp;&nbsp;&nbsp;&nbsp;&nbsp;(1 Point)\n",
    "\n",
    "Create a python program that contains a 2-D array with 6 elements (2 rows and 3 columns) that represents the following array. Assign this array to `output2`.\n",
    "\n",
    "$$\\begin{bmatrix} 0 & 1 & 2 \\\\ 3 & 4 & 5 \\end{bmatrix}$$"
   ]
  },
  {
   "cell_type": "code",
   "execution_count": 5,
   "metadata": {
    "tags": []
   },
   "outputs": [
    {
     "data": {
      "text/plain": [
       "array([[0, 1, 2],\n",
       "       [3, 4, 5]])"
      ]
     },
     "execution_count": 5,
     "metadata": {},
     "output_type": "execute_result"
    }
   ],
   "source": [
    "import numpy as np\n",
    "output2=np.arange(0,6).reshape((2,3))\n",
    "# Write your solution here\n",
    "output2"
   ]
  },
  {
   "cell_type": "markdown",
   "metadata": {},
   "source": [
    "#### Question 03 &nbsp;&nbsp;&nbsp;&nbsp;&nbsp;&nbsp;(1 Point)\n",
    "Create a python program that has a 2-D array with 6 elements (3 rows and 2 columns) that represents the following array. Assign this array to `output3`.\n",
    "\n",
    "$$\\begin{bmatrix} 0 & 1 \\\\ 2 & 3 \\\\ 4 & 5 \\end{bmatrix}$$"
   ]
  },
  {
   "cell_type": "code",
   "execution_count": 8,
   "metadata": {
    "tags": []
   },
   "outputs": [
    {
     "data": {
      "text/plain": [
       "array([[0, 1],\n",
       "       [2, 3],\n",
       "       [4, 5]])"
      ]
     },
     "execution_count": 8,
     "metadata": {},
     "output_type": "execute_result"
    }
   ],
   "source": [
    "import numpy as np\n",
    "\n",
    "\n",
    "output3=np.arange(0,6).reshape(3,2)\n",
    "# Write your solution here\n",
    "output3"
   ]
  },
  {
   "cell_type": "markdown",
   "metadata": {},
   "source": [
    "#### Question 04 &nbsp;&nbsp;&nbsp;&nbsp;&nbsp;&nbsp;(1 Point)\n",
    "\n",
    "Create a python program that has a 3-D array with 8 elements (2 rows and 2 columns, with a depth of 2) using the `zeros` function. Assign this array to `output4`."
   ]
  },
  {
   "cell_type": "code",
   "execution_count": 11,
   "metadata": {
    "tags": []
   },
   "outputs": [
    {
     "data": {
      "text/plain": [
       "array([[[0., 0.],\n",
       "        [0., 0.]],\n",
       "\n",
       "       [[0., 0.],\n",
       "        [0., 0.]]])"
      ]
     },
     "execution_count": 11,
     "metadata": {},
     "output_type": "execute_result"
    }
   ],
   "source": [
    "import numpy as np\n",
    "output4=np.zeros(8).reshape(2,2,2)\n",
    "output4\n",
    "# Write your solution here\n"
   ]
  },
  {
   "cell_type": "markdown",
   "metadata": {},
   "source": [
    "#### Question 05 &nbsp;&nbsp;&nbsp;&nbsp;&nbsp;&nbsp;(2 Points)\n",
    "\n",
    "You are given a 2-D array of unknown size named `array5`. Create a python program that finds the size of that array and returns the number of rows."
   ]
  },
  {
   "cell_type": "code",
   "execution_count": 27,
   "metadata": {
    "tags": []
   },
   "outputs": [
    {
     "data": {
      "text/plain": [
       "2"
      ]
     },
     "execution_count": 27,
     "metadata": {},
     "output_type": "execute_result"
    }
   ],
   "source": [
    "import numpy as np\n",
    "\n",
    "def question05(array5):\n",
    "    return array5.shape[0]\n",
    "    \n",
    "    \n",
    "\n",
    "    # Write your solution here\n",
    "question05(np.arange(6).reshape(2,3))"
   ]
  },
  {
   "cell_type": "markdown",
   "metadata": {},
   "source": [
    "#### Question 06 &nbsp;&nbsp;&nbsp;&nbsp;&nbsp;&nbsp;(2 Points)\n",
    "\n",
    "Create a python program that performs the following calculation using universal functions. Assign the result to `output6`.\n",
    "\n",
    "$$\\begin{bmatrix} 0 & 1 \\\\ 2 & 3 \\end{bmatrix} + \\begin{bmatrix} 0 & 1 \\\\ 2 & 3 \\end{bmatrix}$$"
   ]
  },
  {
   "cell_type": "code",
   "execution_count": 41,
   "metadata": {
    "tags": []
   },
   "outputs": [],
   "source": [
    "import numpy as np\n",
    "a1=np.arange(0,4).reshape(2,2)\n",
    "a2=np.arange(0,4).reshape(2,2)\n",
    "def add_arr(a1,a2):\n",
    "    return a1+a2\n",
    "# Write your solution here\n",
    "output6=add_arr(a1,a2)"
   ]
  },
  {
   "cell_type": "markdown",
   "metadata": {},
   "source": [
    "#### Question 07 &nbsp;&nbsp;&nbsp;&nbsp;&nbsp;&nbsp;(4 Points)\n",
    "You are given two 2-D arrays of that are the same size (`array7_i` and `array7_ii`). Create a python program that multiplies the two arrays together using universal functions. Return a new array containing the result."
   ]
  },
  {
   "cell_type": "code",
   "execution_count": 37,
   "metadata": {
    "tags": []
   },
   "outputs": [],
   "source": [
    "import numpy as np\n",
    "\n",
    "def question07(array7_i,array7_ii):\n",
    "    return np.multiply(array7_i,array7_ii)\n",
    "\n",
    "    # Write your solution here\n",
    "\n"
   ]
  },
  {
   "cell_type": "markdown",
   "metadata": {},
   "source": [
    "#### Question 08 &nbsp;&nbsp;&nbsp;&nbsp;&nbsp;&nbsp;(4 Points)\n",
    "\n",
    "Create a python program that performs the following calculation using universal functions. Assign the result to `output8`.\n",
    "\n",
    "$$\\begin{bmatrix} 0 & 1 \\\\ 2 & 3 \\end{bmatrix} ** 3$$"
   ]
  },
  {
   "cell_type": "code",
   "execution_count": 47,
   "metadata": {
    "tags": []
   },
   "outputs": [
    {
     "data": {
      "text/plain": [
       "array([[ 0,  1],\n",
       "       [ 8, 27]])"
      ]
     },
     "execution_count": 47,
     "metadata": {},
     "output_type": "execute_result"
    }
   ],
   "source": [
    "import numpy as np\n",
    "\n",
    "output8=np.arange(0,4).reshape(2,2)**3\n",
    "output8\n",
    "# Write your solution here\n"
   ]
  },
  {
   "cell_type": "markdown",
   "metadata": {},
   "source": [
    "#### Question 09 &nbsp;&nbsp;&nbsp;&nbsp;&nbsp;&nbsp;(4 Points)\n",
    "\n",
    "Create a python program that has a 1-D array with 100 elements. It should contain the numbers 0, 2, 4, 6, all the way to 198 in sequence. Assign this array to `output9`."
   ]
  },
  {
   "cell_type": "code",
   "execution_count": null,
   "metadata": {
    "tags": []
   },
   "outputs": [],
   "source": [
    "import numpy as np\n",
    "\n",
    "# Write your solution here\n"
   ]
  },
  {
   "cell_type": "markdown",
   "metadata": {},
   "source": [
    "#### Question 10 &nbsp;&nbsp;&nbsp;&nbsp;&nbsp;&nbsp;(4 Points)\n",
    "\n",
    "Create a python program that has a 1-D array with 16 elements. It should contain the numbers 10, 20, 30, 40, all the way to 160 in sequence. Afterwards, change its shape using `reshape` to a 4-D array. Assign this reshaped array to `output10`.\n",
    "\n",
    "***\n",
    "<details>\n",
    "  <summary><span style=\"color:blue\">Click to see Hints</span></summary>\n",
    "   In one of the provided examples, you saw how a 2-D 3-by-3 array. Use that as a basis for reshaping into a 4-D 2-by-2-by-2-by-2 array. \n",
    "</details>"
   ]
  },
  {
   "cell_type": "code",
   "execution_count": 53,
   "metadata": {
    "tags": []
   },
   "outputs": [
    {
     "data": {
      "text/plain": [
       "array([[[[ 10,  20],\n",
       "         [ 30,  40]],\n",
       "\n",
       "        [[ 50,  60],\n",
       "         [ 70,  80]]],\n",
       "\n",
       "\n",
       "       [[[ 90, 100],\n",
       "         [110, 120]],\n",
       "\n",
       "        [[130, 140],\n",
       "         [150, 160]]]])"
      ]
     },
     "execution_count": 53,
     "metadata": {},
     "output_type": "execute_result"
    }
   ],
   "source": [
    "import numpy as np\n",
    "output10=np.arange(10,161,10).reshape(2,2,2,2)\n",
    "output10\n",
    "# Write your solution here\n"
   ]
  },
  {
   "cell_type": "markdown",
   "metadata": {},
   "source": [
    "###### Question 11 &nbsp;&nbsp;&nbsp;&nbsp;&nbsp;&nbsp;(6 Points)\n",
    "\n",
    "One of the most common models in statistics (and by extention data science) is the normal distribution. In order to graph a normal distribution first the mean and standard deviation of the data must be found. NumPy has functions that allow us to analyse data and obtain these values.\n",
    "\n",
    "You are given an array of unknown size and dimensions named `array11` that represents some data. Create a python program that finds the both the mean and standard deviation (rounded to 4 decimal points) of the data. Return the values in a dictionary of the following structure:\n",
    "```python\n",
    "{\n",
    "  \"mean\": some_value,\n",
    "  \"standard_deviation\": some_value\n",
    "}\n",
    "```"
   ]
  },
  {
   "cell_type": "code",
   "execution_count": 61,
   "metadata": {
    "tags": []
   },
   "outputs": [],
   "source": [
    "import numpy as np\n",
    "\n",
    "def question11(array11):\n",
    "    dict_res={}\n",
    "    dict_res['mean']=np.mean(array11)\n",
    "    dict_res['standard_deviation']=np.std(array11)\n",
    "    return dict_res\n",
    "\n",
    "    # Write your solution here\n",
    "\n"
   ]
  },
  {
   "cell_type": "markdown",
   "metadata": {},
   "source": [
    "#### Question 12 &nbsp;&nbsp;&nbsp;&nbsp;&nbsp;&nbsp;(6 Points)\n",
    "\n",
    "You are given an 1-D array of unknown size named `array12`. Create a python program that finds both the first element and the smallest element in the array. Return the values in a dictionary of the following structure:\n",
    "```python\n",
    "{\n",
    "  \"first\": some_value,\n",
    "  \"smallest\": some_value\n",
    "}\n",
    "```"
   ]
  },
  {
   "cell_type": "code",
   "execution_count": 74,
   "metadata": {
    "tags": []
   },
   "outputs": [],
   "source": [
    "import numpy as np\n",
    "\n",
    "def question12(array12):\n",
    "    dict_res={}\n",
    "    dict_res['first']=array12[0]\n",
    "    dict_res['smallest']=array12[0].min()\n",
    "      \n",
    "    return dict_res\n",
    "    # Write your solution here\n",
    "\n"
   ]
  },
  {
   "cell_type": "markdown",
   "metadata": {},
   "source": [
    "#### Question 13 &nbsp;&nbsp;&nbsp;&nbsp;&nbsp;&nbsp;(6 Points)\n",
    "\n",
    "You are given an 2-D array of unknown size named `array13`. Create a python program that finds the first row of data and the maximum number within that row.  Return the values in a dictionary of the following structure:\n",
    "```python\n",
    "{\n",
    "  \"first_row\": some_value,\n",
    "  \"max_row_value\": some_value\n",
    "}\n",
    "```"
   ]
  },
  {
   "cell_type": "code",
   "execution_count": 78,
   "metadata": {
    "tags": []
   },
   "outputs": [
    {
     "data": {
      "text/plain": [
       "{'first_row': array([[0, 1]]), 'max_row_value': 1}"
      ]
     },
     "execution_count": 78,
     "metadata": {},
     "output_type": "execute_result"
    }
   ],
   "source": [
    "import numpy as np\n",
    "\n",
    "def question13(array13):\n",
    "    dict_res={}\n",
    "    dict_res['first_row']=array13[0:1]\n",
    "    dict_res['max_row_value']=array13[0:1].max()\n",
    "    \n",
    "    return(dict_res)\n",
    "    \n",
    "\n",
    "    # Write your solution here\n",
    "question13(np.arange(0,4).reshape(2,2))"
   ]
  },
  {
   "cell_type": "markdown",
   "metadata": {},
   "source": [
    "#### Question 14 &nbsp;&nbsp;&nbsp;&nbsp;&nbsp;&nbsp;(6 Points)\n",
    "\n",
    "You are given an 1-D array of unknown size named `array14`. Create a python program that finds the first 6 entries within that row. Next, split that array into two arrays using the `split` function. Return the values in a dictionary of the following structure:\n",
    "```python\n",
    "{\n",
    "  \"array\": first_6_entries,\n",
    "  \"part1\": split_first_half,\n",
    "  \"part2\": split_other_half\n",
    "}\n",
    "```"
   ]
  },
  {
   "cell_type": "code",
   "execution_count": 95,
   "metadata": {
    "tags": []
   },
   "outputs": [],
   "source": [
    "import numpy as np\n",
    "\n",
    "def question14(array14):\n",
    "    v1,v2=np.split(array14,2)\n",
    "    dict_Res={\n",
    "  \"array\": array14[0:7],\n",
    "  \"part1\":v1 ,\n",
    "  \"part2\": v2\n",
    "}\n",
    "    return dict_Res\n",
    "    # Write your solution here\n"
   ]
  },
  {
   "cell_type": "code",
   "execution_count": 94,
   "metadata": {},
   "outputs": [
    {
     "data": {
      "text/plain": [
       "[array([[4],\n",
       "        [7]]),\n",
       " array([[5],\n",
       "        [8]]),\n",
       " array([[6],\n",
       "        [9]])]"
      ]
     },
     "execution_count": 94,
     "metadata": {},
     "output_type": "execute_result"
    }
   ],
   "source": [
    "v1 =np.array([1, 2, 3])\n",
    "matrix = np.array([[4, 5, 6],[7, 8, 9]])\n",
    "np.hsplit(matrix,3)"
   ]
  },
  {
   "cell_type": "markdown",
   "metadata": {},
   "source": [
    "#### Question 15 &nbsp;&nbsp;&nbsp;&nbsp;&nbsp;&nbsp;(6 Points)\n",
    "\n",
    "You are given an 1-D array of 40 elements named `array15`. Create a python program that finds every second element starting from index 4 and stopping before index 20. Return the result."
   ]
  },
  {
   "cell_type": "code",
   "execution_count": 96,
   "metadata": {
    "tags": []
   },
   "outputs": [],
   "source": [
    "import numpy as np\n",
    "\n",
    "def question15(array15):\n",
    "    return array15[4:20:2]\n",
    "    # Write your solution here\n"
   ]
  },
  {
   "cell_type": "markdown",
   "metadata": {},
   "source": [
    "#### Question 16 &nbsp;&nbsp;&nbsp;&nbsp;&nbsp;&nbsp;(6 Points)\n",
    "\n",
    "You are given 2 sorted 1-D arrays of 20 elements named `array16_i` and `array16_ii`. Create a python program that concatenates these two arrays by appending `array16_ii` to the end of `array16_i`. Afterwards, sort the new array.\n",
    "Return both the unsorted concatenated array, and the sorted array in a dictionary of the following structure:\n",
    "```python\n",
    "{\n",
    "  \"concat\": concatenated_array,\n",
    "  \"sorted\": sorted_array\n",
    "}\n",
    "```"
   ]
  },
  {
   "cell_type": "code",
   "execution_count": 112,
   "metadata": {
    "tags": []
   },
   "outputs": [],
   "source": [
    "import numpy as np\n",
    "\n",
    "def question16(array16_i, array16_ii):\n",
    "    \n",
    "    ret_dict={\n",
    "  \"concat\": np.concatenate([array16_i,array16_ii]),\n",
    "    \n",
    "        \n",
    "  \"sorted\": np.sort([(np.concatenate([array16_i,array16_ii]))])\n",
    "}\n",
    "    return ret_dict\n",
    "\n",
    "    # Write your solution here\n"
   ]
  },
  {
   "cell_type": "markdown",
   "metadata": {},
   "source": [
    "#### Question 17 &nbsp;&nbsp;&nbsp;&nbsp;&nbsp;&nbsp;(8 Points)\n",
    "\n",
    "Create a python program that:\n",
    "\n",
    "1. initializes two arrays using the `arange` function followed by the `reshape` functions.\n",
    "   1. The first array should have 2 rows and 5 columns and contain the numbers 0, 1, 2, up to and including 9.\n",
    "   2. The second array should  have 2 rows and 3 columns and contain the numbers 1, 3, 5, up to and including 11.\n",
    "2. concatenates these two arrays by appending along the column axis (creating an array with 2 rows and 8 columns), then transposes the result (creating an array with 8 rows and 2 columns).\n",
    "\n",
    "Assign the end result to `output17`."
   ]
  },
  {
   "cell_type": "code",
   "execution_count": 121,
   "metadata": {
    "tags": []
   },
   "outputs": [
    {
     "data": {
      "text/plain": [
       "(8, 2, 1)"
      ]
     },
     "execution_count": 121,
     "metadata": {},
     "output_type": "execute_result"
    }
   ],
   "source": [
    "# Write your solution here\n",
    "a1=np.arange(10).reshape(2,5)\n",
    "a2=np.arange(1,12,2).reshape(2,3)\n",
    "output17=np.concatenate([a1,a2],axis=1)\n",
    "output17=np.transpose([output17])\n",
    "output17.shape\n",
    "\n"
   ]
  },
  {
   "cell_type": "markdown",
   "metadata": {},
   "source": [
    "#### Question 18 &nbsp;&nbsp;&nbsp;&nbsp;&nbsp;&nbsp;(8 Points)\n",
    "\n",
    "Create a python program that:\n",
    "\n",
    "1. initializes two arrays using the `arange` function followed by the `reshape` functions.\n",
    "   1. The first array should have 4 rows and 2 columns and contain the numbers 0, 1, 2, up to 7.\n",
    "   2. The second array should have 3 rows and 2 columns and contain the numbers 0, 5, 10, up to 11.\n",
    "2. concatenates these two arrays by appending along the row axis.\n",
    "3. afterwards, reshape the new array into a 1-D array and sort it in decending order.\n",
    "\n",
    "Assign the end result to `output18`."
   ]
  },
  {
   "cell_type": "code",
   "execution_count": 126,
   "metadata": {
    "tags": []
   },
   "outputs": [
    {
     "ename": "ValueError",
     "evalue": "cannot reshape array of size 3 into shape (3,2)",
     "output_type": "error",
     "traceback": [
      "\u001b[0;31m---------------------------------------------------------------------------\u001b[0m",
      "\u001b[0;31mValueError\u001b[0m                                Traceback (most recent call last)",
      "\u001b[0;32m/var/folders/sl/7wbtxfwj7t90ynql9glzhsvw0000gn/T/ipykernel_33485/125235183.py\u001b[0m in \u001b[0;36m<module>\u001b[0;34m\u001b[0m\n\u001b[1;32m      1\u001b[0m \u001b[0;31m# Write your solution here\u001b[0m\u001b[0;34m\u001b[0m\u001b[0;34m\u001b[0m\u001b[0m\n\u001b[1;32m      2\u001b[0m \u001b[0ma1\u001b[0m\u001b[0;34m=\u001b[0m\u001b[0mnp\u001b[0m\u001b[0;34m.\u001b[0m\u001b[0marange\u001b[0m\u001b[0;34m(\u001b[0m\u001b[0;36m0\u001b[0m\u001b[0;34m,\u001b[0m\u001b[0;36m8\u001b[0m\u001b[0;34m)\u001b[0m\u001b[0;34m.\u001b[0m\u001b[0mreshape\u001b[0m\u001b[0;34m(\u001b[0m\u001b[0;36m4\u001b[0m\u001b[0;34m,\u001b[0m\u001b[0;36m2\u001b[0m\u001b[0;34m)\u001b[0m\u001b[0;34m\u001b[0m\u001b[0;34m\u001b[0m\u001b[0m\n\u001b[0;32m----> 3\u001b[0;31m \u001b[0ma2\u001b[0m\u001b[0;34m=\u001b[0m\u001b[0mnp\u001b[0m\u001b[0;34m.\u001b[0m\u001b[0marange\u001b[0m\u001b[0;34m(\u001b[0m\u001b[0;36m0\u001b[0m\u001b[0;34m,\u001b[0m\u001b[0;36m12\u001b[0m\u001b[0;34m,\u001b[0m\u001b[0;36m5\u001b[0m\u001b[0;34m)\u001b[0m\u001b[0;34m.\u001b[0m\u001b[0mreshape\u001b[0m\u001b[0;34m(\u001b[0m\u001b[0;36m3\u001b[0m\u001b[0;34m,\u001b[0m\u001b[0;36m2\u001b[0m\u001b[0;34m)\u001b[0m\u001b[0;34m\u001b[0m\u001b[0;34m\u001b[0m\u001b[0m\n\u001b[0m\u001b[1;32m      4\u001b[0m \u001b[0ma2\u001b[0m\u001b[0;34m\u001b[0m\u001b[0;34m\u001b[0m\u001b[0m\n",
      "\u001b[0;31mValueError\u001b[0m: cannot reshape array of size 3 into shape (3,2)"
     ]
    }
   ],
   "source": [
    "# Write your solution here\n",
    "a1=np.arange(0,8).reshape(4,2)\n",
    "a2=np.arange(0,12,5).reshape(3,2)\n",
    "a2"
   ]
  },
  {
   "cell_type": "markdown",
   "metadata": {},
   "source": [
    "#### Question 19 &nbsp;&nbsp;&nbsp;&nbsp;&nbsp;&nbsp;(12 Points)\n",
    "\n",
    "Create a python program that:\n",
    "\n",
    "1. initializes two 2-D arrays as depicted below.\n",
    "$$a1 = \\begin{bmatrix} 70 & 51 & 89 \\\\ 42 & 15 & 8 \\end{bmatrix}, a2 = \\begin{bmatrix} 75 & 12 & 38 \\\\ 99 & 75 & 45 \\end{bmatrix}$$\n",
    "2. performs integer division, by dividing the elements of a1 by a2. Assign this result to `output19_i`.\n",
    "3. sums the three arrays together. Assign this result to `output19_ii`, also assign a copy of the second row to `output19_iii`.\n"
   ]
  },
  {
   "cell_type": "code",
   "execution_count": 151,
   "metadata": {
    "tags": []
   },
   "outputs": [],
   "source": [
    "# Write your solution here\n",
    "a1=np.array([70,51,89,42,15,8])\n",
    "a2=np.array([75,12,38,99,75,45])\n",
    "\n",
    "a1=a1.reshape(2,3)\n",
    "a2=a2.reshape(2,3)\n",
    "\n",
    "output19_i=np.divide(a1,a2)\n",
    "output19_i\n",
    "output19_ii=a1+a2+output19_i\n",
    "output19_iii=output19_ii[:1,:]\n"
   ]
  },
  {
   "cell_type": "markdown",
   "metadata": {},
   "source": [
    "#### Question 20 &nbsp;&nbsp;&nbsp;&nbsp;&nbsp;&nbsp;(12 Points)\n",
    "\n",
    "Create a python program that:\n",
    "\n",
    "1. initializes two 2-D arrays as depicted below.\n",
    "$$a1 = \\begin{bmatrix} 48 & 75 & 75 \\\\ 15 & 2 & 46 \\end{bmatrix}, a2 = \\begin{bmatrix} 78 & 15 & 87 \\\\ 0 & 61 & 9 \\end{bmatrix}$$\n",
    "2. multiplies the two arrays together, then slice the result to only assign the last column to `output20` (note: an n-row, 1-column array automatically converts into a 1-row, n-column array, leave your answer like this).\n"
   ]
  },
  {
   "cell_type": "code",
   "execution_count": 162,
   "metadata": {
    "tags": []
   },
   "outputs": [],
   "source": [
    "# Write your solution here\n",
    "a1=np.array([48,75,75,15,2,46]).reshape(2,3)\n",
    "a2=np.array([78,15,87,0,61,9]).reshape(2,3)\n",
    "output20=a1*a2\n",
    "\n",
    "output20=output20[:,2:3]\n"
   ]
  },
  {
   "cell_type": "code",
   "execution_count": null,
   "metadata": {},
   "outputs": [],
   "source": []
  }
 ],
 "metadata": {
  "kernelspec": {
   "display_name": "Python 3 (ipykernel)",
   "language": "python",
   "name": "python3"
  },
  "language_info": {
   "codemirror_mode": {
    "name": "ipython",
    "version": 3
   },
   "file_extension": ".py",
   "mimetype": "text/x-python",
   "name": "python",
   "nbconvert_exporter": "python",
   "pygments_lexer": "ipython3",
   "version": "3.9.7"
  },
  "otter": {
   "tests": {
    "q1": {
     "name": "q1",
     "points": 1,
     "suites": [
      {
       "cases": [],
       "scored": true,
       "setup": "",
       "teardown": "",
       "type": "doctest"
      }
     ]
    },
    "q10": {
     "name": "q10",
     "points": 4,
     "suites": [
      {
       "cases": [],
       "scored": true,
       "setup": "",
       "teardown": "",
       "type": "doctest"
      }
     ]
    },
    "q11": {
     "name": "q11",
     "points": 6,
     "suites": [
      {
       "cases": [],
       "scored": true,
       "setup": "",
       "teardown": "",
       "type": "doctest"
      }
     ]
    },
    "q12": {
     "name": "q12",
     "points": 6,
     "suites": [
      {
       "cases": [],
       "scored": true,
       "setup": "",
       "teardown": "",
       "type": "doctest"
      }
     ]
    },
    "q13": {
     "name": "q13",
     "points": 6,
     "suites": [
      {
       "cases": [],
       "scored": true,
       "setup": "",
       "teardown": "",
       "type": "doctest"
      }
     ]
    },
    "q14": {
     "name": "q14",
     "points": 6,
     "suites": [
      {
       "cases": [],
       "scored": true,
       "setup": "",
       "teardown": "",
       "type": "doctest"
      }
     ]
    },
    "q15": {
     "name": "q15",
     "points": 6,
     "suites": [
      {
       "cases": [],
       "scored": true,
       "setup": "",
       "teardown": "",
       "type": "doctest"
      }
     ]
    },
    "q16": {
     "name": "q16",
     "points": 6,
     "suites": [
      {
       "cases": [],
       "scored": true,
       "setup": "",
       "teardown": "",
       "type": "doctest"
      }
     ]
    },
    "q17": {
     "name": "q17",
     "points": 8,
     "suites": [
      {
       "cases": [],
       "scored": true,
       "setup": "",
       "teardown": "",
       "type": "doctest"
      }
     ]
    },
    "q18": {
     "name": "q18",
     "points": 8,
     "suites": [
      {
       "cases": [],
       "scored": true,
       "setup": "",
       "teardown": "",
       "type": "doctest"
      }
     ]
    },
    "q19": {
     "name": "q19",
     "points": 12,
     "suites": [
      {
       "cases": [],
       "scored": true,
       "setup": "",
       "teardown": "",
       "type": "doctest"
      }
     ]
    },
    "q2": {
     "name": "q2",
     "points": 1,
     "suites": [
      {
       "cases": [],
       "scored": true,
       "setup": "",
       "teardown": "",
       "type": "doctest"
      }
     ]
    },
    "q20": {
     "name": "q20",
     "points": 12,
     "suites": [
      {
       "cases": [],
       "scored": true,
       "setup": "",
       "teardown": "",
       "type": "doctest"
      }
     ]
    },
    "q3": {
     "name": "q3",
     "points": 1,
     "suites": [
      {
       "cases": [],
       "scored": true,
       "setup": "",
       "teardown": "",
       "type": "doctest"
      }
     ]
    },
    "q4": {
     "name": "q4",
     "points": 1,
     "suites": [
      {
       "cases": [],
       "scored": true,
       "setup": "",
       "teardown": "",
       "type": "doctest"
      }
     ]
    },
    "q5": {
     "name": "q5",
     "points": 2,
     "suites": [
      {
       "cases": [],
       "scored": true,
       "setup": "",
       "teardown": "",
       "type": "doctest"
      }
     ]
    },
    "q6": {
     "name": "q6",
     "points": 2,
     "suites": [
      {
       "cases": [],
       "scored": true,
       "setup": "",
       "teardown": "",
       "type": "doctest"
      }
     ]
    },
    "q7": {
     "name": "q7",
     "points": 4,
     "suites": [
      {
       "cases": [],
       "scored": true,
       "setup": "",
       "teardown": "",
       "type": "doctest"
      }
     ]
    },
    "q8": {
     "name": "q8",
     "points": 4,
     "suites": [
      {
       "cases": [],
       "scored": true,
       "setup": "",
       "teardown": "",
       "type": "doctest"
      }
     ]
    },
    "q9": {
     "name": "q9",
     "points": 4,
     "suites": [
      {
       "cases": [],
       "scored": true,
       "setup": "",
       "teardown": "",
       "type": "doctest"
      }
     ]
    }
   }
  },
  "varInspector": {
   "cols": {
    "lenName": 16,
    "lenType": 16,
    "lenVar": 40
   },
   "kernels_config": {
    "python": {
     "delete_cmd_postfix": "",
     "delete_cmd_prefix": "del ",
     "library": "var_list.py",
     "varRefreshCmd": "print(var_dic_list())"
    },
    "r": {
     "delete_cmd_postfix": ") ",
     "delete_cmd_prefix": "rm(",
     "library": "var_list.r",
     "varRefreshCmd": "cat(var_dic_list()) "
    }
   },
   "types_to_exclude": [
    "module",
    "function",
    "builtin_function_or_method",
    "instance",
    "_Feature"
   ],
   "window_display": false
  }
 },
 "nbformat": 4,
 "nbformat_minor": 4
}
